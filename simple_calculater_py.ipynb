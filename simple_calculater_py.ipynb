{
  "nbformat": 4,
  "nbformat_minor": 0,
  "metadata": {
    "colab": {
      "provenance": [],
      "authorship_tag": "ABX9TyNQ7UKHI9bOzpG+9evtI54x",
      "include_colab_link": true
    },
    "kernelspec": {
      "name": "python3",
      "display_name": "Python 3"
    },
    "language_info": {
      "name": "python"
    }
  },
  "cells": [
    {
      "cell_type": "markdown",
      "metadata": {
        "id": "view-in-github",
        "colab_type": "text"
      },
      "source": [
        "<a href=\"https://colab.research.google.com/github/anshuvarshney/POCs/blob/main/simple_calculater_py.ipynb\" target=\"_parent\"><img src=\"https://colab.research.google.com/assets/colab-badge.svg\" alt=\"Open In Colab\"/></a>"
      ]
    },
    {
      "cell_type": "code",
      "source": [
        "#Basic simple calulator that can perform the arithmictic operation like the addition, susbstract, mutiplication , division flor division and modulus.\n",
        "num1 = int(input(\"enter a number: \"))\n",
        "num2 = int(input(\"enter a number: \"))\n",
        "operator = input(\"input an operator : +, - , * , / , //, % \")\n",
        "if operator == \"+\":\n",
        "  print(num1+num2)\n",
        "elif operator == \"-\":\n",
        "  print(num1-num2)\n",
        "elif operator == \"*\":\n",
        "  print(num1*num2)\n",
        "elif operator == \"/\":\n",
        "  print(num1/num2)\n",
        "elif operator == \"//\":\n",
        "  print(num1//num2)\n",
        "else:\n",
        "  print(num1%num2)"
      ],
      "metadata": {
        "id": "KcHkQxR3c0F0",
        "colab": {
          "base_uri": "https://localhost:8080/"
        },
        "outputId": "367a12fd-2dbc-4ad3-98ea-07def050dd83"
      },
      "execution_count": 22,
      "outputs": [
        {
          "output_type": "stream",
          "name": "stdout",
          "text": [
            "enter a number: 78\n",
            "enter a number: 3\n",
            "input an operator : +, - , * , / , //, % *\n",
            "234\n"
          ]
        }
      ]
    },
    {
      "cell_type": "code",
      "source": [],
      "metadata": {
        "id": "zDKtFNT-DYIy"
      },
      "execution_count": null,
      "outputs": []
    }
  ]
}